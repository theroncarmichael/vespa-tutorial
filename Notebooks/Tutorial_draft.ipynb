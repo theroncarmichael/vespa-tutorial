{
 "cells": [
  {
   "cell_type": "markdown",
   "metadata": {},
   "source": [
    "# VESPA Tutorial\n",
    "This tutorial walks through some common use cases of exoplanet validation code VESPA, both via command line and the Jupyter interface. \n",
    "\n",
    "\n",
    "The code is intended to be run via command line, so this notebook shows how to create the files needed to run VESPA via command line for various cases. \n",
    "\n",
    "You do not need this notebook to run VESPA (and later in the notebook, you will see how to use Jupyter lab to run terminal commands). What you DO need to run VESPA is the following files:\n",
    "-  **transit.txt**: A text file containing the transit photometry in three columns: time from midtransit (days), flux (relative), flux error (fractional). \n",
    "- **star.ini**: A file containing the observed, available properties of the target star (you can include effective temperature, metallicity, log(g), magnitudes)\n",
    "- **fpp.ini**: An initial condition file containing the system properties (RA, DEC, plantary period, $R_{p}/R_{*}$, and reduction parameters (aperture, maxiumum depth of secondary eclipse)\n",
    "\n",
    "First, let's go through what each of these files look like. A simple use case is attached. Go look at the file formats in folder TestCase1; these are the formats VESPA requires. "
   ]
  },
  {
   "cell_type": "markdown",
   "metadata": {},
   "source": [
    "### Exercise 1: Basic use case\n",
    "##### Run VESPA using sample files from command line\n",
    "This code can be run via command line. \n",
    "There are two ways to do this:\n",
    "\n",
    "Way 1: \n",
    "\n",
    "a) In JupyterLab, open up a command line window (File- > New Launcher -> Terminal) and change to the directory containing these sample files:\n",
    "\n",
    "> `> cd TestCase1`\n",
    "\n",
    "b) Compute the star model using the isochrones package. This requires the star.ini file, which contains the measured stellar parameters on which the stellar model will be based. \n",
    "\n",
    "> `> starfit`\n",
    "\n",
    "c) Run the calcfpp command inside the directory (here, we limit the steps computed to 1000 by including option `-n 1000`; if you are running real calculations and have the time to wait for them to finish, remove this):\n",
    "\n",
    "> `> calcfpp -n 1000`\n",
    "\n",
    "Way 2:\n",
    "\n",
    "a) In the parent directory (in this case, your local directory, which contains folder TestCase1), compute the star model:\n",
    "\n",
    ">`> starfit TestCase1`\n",
    "\n",
    "b)   and run the calcfpp command:\n",
    "\n",
    ">`> calcfpp TestCase1 -n 1000`\n",
    "\n",
    "This command takes as its argument the directory containing the three files described above. \n"
   ]
  },
  {
   "cell_type": "markdown",
   "metadata": {},
   "source": [
    "### Exercise 2: Generate the files needed to run VESPA automatically\n"
   ]
  },
  {
   "cell_type": "code",
   "execution_count": 10,
   "metadata": {},
   "outputs": [],
   "source": [
    "import vespa "
   ]
  },
  {
   "cell_type": "markdown",
   "metadata": {},
   "source": [
    "First, let's look at a multi-planet system:\n"
   ]
  },
  {
   "cell_type": "code",
   "execution_count": null,
   "metadata": {},
   "outputs": [],
   "source": [
    " "
   ]
  },
  {
   "cell_type": "code",
   "execution_count": null,
   "metadata": {},
   "outputs": [],
   "source": []
  },
  {
   "cell_type": "code",
   "execution_count": null,
   "metadata": {},
   "outputs": [],
   "source": []
  },
  {
   "cell_type": "code",
   "execution_count": null,
   "metadata": {},
   "outputs": [],
   "source": []
  },
  {
   "cell_type": "code",
   "execution_count": null,
   "metadata": {},
   "outputs": [],
   "source": []
  }
 ],
 "metadata": {
  "kernelspec": {
   "display_name": "Python 2",
   "language": "python",
   "name": "python2"
  },
  "language_info": {
   "codemirror_mode": {
    "name": "ipython",
    "version": 2
   },
   "file_extension": ".py",
   "mimetype": "text/x-python",
   "name": "python",
   "nbconvert_exporter": "python",
   "pygments_lexer": "ipython2",
   "version": "2.7.14"
  }
 },
 "nbformat": 4,
 "nbformat_minor": 2
}
