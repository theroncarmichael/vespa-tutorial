{
 "cells": [
  {
   "cell_type": "markdown",
   "metadata": {},
   "source": [
    "# Validation of Exoplanet Signals using a Probabilistic Algorithm (VEPSA) Tutorial\n",
    "This tutorial cracks open the black box of vespa.\n",
    "\n",
    "If a directory is [completely prepared](#preparing-a-vespa-directory), running `vespa` consists of executing the following commands from a terminal:\n",
    "\n",
    "    starfit --all <directory name>\n",
    "    calcfpp <directory name>\n",
    "\n",
    "The `starfit --all` command [estimates the stellar properties of the host star](#fitting-stellar-models), and `calcfpp` [computes the false positive probability](#calculating-fpp).\n"
   ]
  },
  {
   "cell_type": "code",
   "execution_count": null,
   "metadata": {},
   "outputs": [],
   "source": []
  },
  {
   "cell_type": "markdown",
   "metadata": {},
   "source": [
    "# Preparing a vespa directory"
   ]
  },
  {
   "cell_type": "markdown",
   "metadata": {},
   "source": [
    "Running a `vespa` calculation requires creating `star.ini` and `fpp.ini` config files, as described below.\n"
   ]
  },
  {
   "cell_type": "markdown",
   "metadata": {},
   "source": [
    "## Host star\n",
    "\n",
    "Create a `star.ini` file containing the RA/Dec coordinates of the transit candidate host star, and any available observed properties, such as broadband photometric magnitudes, spectroscopic properties, or parallax.\n",
    "All quantities are listed as `value, uncertainty`.\n",
    "One of the magnitudes provided must be the band in which the transit was observed, and need not have an uncertainty (values without uncertainties will not be used in the model fitting).\n",
    "Here is an example `star.ini` file:\n",
    "\n",
    "    ra = 289.217499\n",
    "    dec = 47.88446\n",
    "    J = 10.523, 0.02\n",
    "    H = 10.211, 0.02\n",
    "    K = 10.152, 0.02\n",
    "    g = 12.0428791, 0.05\n",
    "    r = 11.5968652, 0.05\n",
    "    i = 11.4300704, 0.05\n",
    "    z = 11.393061, 0.05\n",
    "    Kepler = 11.664\n",
    "    Teff = 5642, 50.0\n",
    "    feh = -0.27, 0.08\n",
    "    logg = 4.443, 0.028"
   ]
  },
  {
   "cell_type": "markdown",
   "metadata": {},
   "source": [
    "## Planet candidate\n",
    "\n",
    "Create a text file containing the photometry of the detected candidate, detrended and phase-folded.\n",
    "This file should have the following three columns in order:\n",
    "\n",
    "  * Time from mid-transit, in units of days\n",
    "  * Relative flux, normalized to unity; e.g., `flux / median(flux)`.\n",
    "  * Relative flux uncertainty (also normalized)\n",
    "\n",
    "The photometry should be limited to only those points within just a few transit durations of the transit, not the entire orbital phase.\n",
    "This file may have any name, but for current purposes, let's call it `transit.txt`.\n",
    "\n",
    "For a quick description of how to make a file like this for a new candidate, see Appendix 1 of this notebook. \n",
    "\n",
    "You can check to make sure that this is put together correctly by using the utilities provided in and used by `vespa` to load and visualize the candidate:"
   ]
  },
  {
   "cell_type": "code",
   "execution_count": 2,
   "metadata": {},
   "outputs": [
    {
     "data": {
      "image/png": "[encoded data removed]",
      "text/plain": [
       "<matplotlib.figure.Figure at 0x1a18ad82d0>"
      ]
     },
     "metadata": {},
     "output_type": "display_data"
    }
   ],
   "source": [
    "%matplotlib inline\n",
    "from vespa import TransitSignal\n",
    "trsig = TransitSignal.from_ascii('TestCase1/transit.txt')\n",
    "trsig.plot()"
   ]
  },
  {
   "cell_type": "markdown",
   "metadata": {},
   "source": [
    "The results of three other analyses (calculations that `vespa` does not do) must also be provided:\n",
    "\n",
    "  - A best-fit estimate of the planet/star radius ratio.\n",
    "\n",
    "  - An observational upper limit on the depth of a potential secondary eclipse in the light curve.\n",
    "    This may be calculated by, e.g., running a transit search in the light curve at other phases but keeping the period fixed.\n",
    "\n",
    "  - A limit on the furthest angular separation from the target star that a potential blending star might reside.\n",
    "    This limit should come from pixel-level analysis of the target star photometry, establishing that the signal does not originate from a different star.\n",
    "    While the tightest constraint will come from some kind of centroid or pixel-modeling effort (e.g. [Bryson et al, 2013](https://arxiv.org/pdf/1303.0052.pdf)), it should also be sufficient to test the depth of the signal as a function of aperture size, to see whether the measured depth is aperture-dependent (that is, if the signal is caused by a small amount of flux from a bright eclipsing binary many pixels away from the target, then the signal will be deeper with larger apertures.)\n",
    "    A good example of what can happen if this analysis is not done carefully is with EPIC210400868 from [Cabrera et al., 2017](https://arxiv.org/pdf/1707.08007.pdf).\n",
    "\n",
    "All of this information gets summarized in another config file: `fpp.ini`, as follows:\n",
    "\n",
    "    name = K00087.01\n",
    "    ra = 289.217499\n",
    "    dec = 47.88446\n",
    "    period = 289.864456     # Orbital period of candidate\n",
    "    rprs = 0.021777742485   # Planet/star radius ratio\n",
    "    photfile = transit.txt  # File containing transit photometry\n",
    "\n",
    "    [constraints]\n",
    "    maxrad = 1.05           # Maximum potential blending radius, in arcsec\n",
    "    secthresh = 9.593e-05   # Maximum allowed secondary eclipse depth"
   ]
  },
  {
   "cell_type": "markdown",
   "metadata": {},
   "source": [
    "# Fitting stellar models\n",
    "\n",
    "The first step of a `vespa` calculation is to fit the stellar parameters to the observed properties of the star.\n",
    "Before this step, the directory should look like this:\n",
    "\n",
    "    $ ls TestCase1\n",
    "    fpp.ini\n",
    "    star.ini\n",
    "    transit.txt\n",
    "    \n",
    "Which we can check:"
   ]
  },
  {
   "cell_type": "code",
   "execution_count": 79,
   "metadata": {},
   "outputs": [
    {
     "name": "stdout",
     "output_type": "stream",
     "text": [
      "FPPsummary.png\n",
      "fpp.ini\n",
      "star.ini\n",
      "transit.txt\n"
     ]
    }
   ],
   "source": [
    "%%bash \n",
    "ls TestCase1/"
   ]
  },
  {
   "cell_type": "markdown",
   "metadata": {},
   "source": [
    "Fitting the stellar properties consists of running the `starfit` script, which is part of the `isochrones` package:"
   ]
  },
  {
   "cell_type": "code",
   "execution_count": null,
   "metadata": {},
   "outputs": [],
   "source": [
    "%%bash\n",
    "starfit --all TestCase1"
   ]
  },
  {
   "cell_type": "markdown",
   "metadata": {},
   "source": [
    "This script performs three different fits: single-, binary- and triple-star models.\n",
    "It should take approximately 25 minutes to run: about 3, 7, and 15 minutes for the single, binary, and triple models, respectively.\n",
    "After the script finishes, your directory should look like:"
   ]
  },
  {
   "cell_type": "code",
   "execution_count": null,
   "metadata": {},
   "outputs": [],
   "source": [
    "%%bash\n",
    "ls TestCase1/"
   ]
  },
  {
   "cell_type": "markdown",
   "metadata": {},
   "source": [
    "The `mist_starmodel_*.h5` files contain the samples from the posterior probability distribution of the model parameters, as well as samples of derived parameters.\n",
    "You can load the stellar model as follows:"
   ]
  },
  {
   "cell_type": "code",
   "execution_count": null,
   "metadata": {},
   "outputs": [],
   "source": [
    "from isochrones import StarModel    \n",
    "mod_single = StarModel.load_hdf('TestCase1/mist_starmodel_single.h5')"
   ]
  },
  {
   "cell_type": "markdown",
   "metadata": {},
   "source": [
    "and you can investigate the posterior samples via the `.samples` attribute:\n"
   ]
  },
  {
   "cell_type": "code",
   "execution_count": null,
   "metadata": {},
   "outputs": [],
   "source": [
    "mod_single.samples.head()"
   ]
  },
  {
   "cell_type": "markdown",
   "metadata": {},
   "source": [
    "The `*.png` files in the directory contain diagnostic plots.\n",
    "There are two kinds of \"corner\" plots that show the joint distributions of various parameters: `*_physical.png` and `*_observed.png`.\n",
    "The \"physical\" plots show the distribution of the physical parameters of the star(s) resulting from the model fits: mass, radius, age, [Fe/H], distance, and extinction.  (Radius is the only of these that is a derived parameter, rather than a directly fitted parameter.)"
   ]
  },
  {
   "cell_type": "code",
   "execution_count": 77,
   "metadata": {},
   "outputs": [
    {
     "data": {
      "image/png": "[encoded data removed]",
      "text/plain": [
       "<IPython.core.display.Image object>"
      ]
     },
     "execution_count": 77,
     "metadata": {},
     "output_type": "execute_result"
    }
   ],
   "source": [
    "from IPython.display import Image\n",
    "Image(\"TestCase1/mist_corner_binary_physical.png\")"
   ]
  },
  {
   "cell_type": "markdown",
   "metadata": {},
   "source": [
    "The \"observed\" plots show the distribution of the derived parameters of the model that correspond to the quantities used to constrain the models; in this case, seven photometric bands and three spectroscopic parameters.\n",
    "These figures also show the provided constraint values (blue lines), which can be indicative of a poor stellar model fit if they do not lie comfortably within the distribution of the modeled parameters."
   ]
  },
  {
   "cell_type": "code",
   "execution_count": 78,
   "metadata": {},
   "outputs": [
    {
     "data": {
      "image/png": "[encoded data removed]",
      "text/plain": [
       "<IPython.core.display.Image object>"
      ]
     },
     "execution_count": 78,
     "metadata": {},
     "output_type": "execute_result"
    }
   ],
   "source": [
    "Image(\"TestCase1/mist_corner_binary_observed.png\")"
   ]
  },
  {
   "cell_type": "markdown",
   "metadata": {},
   "source": [
    "# Calculating FPP\n",
    "\n",
    "When the stellar model fits are complete, you can now calculate the false positive probability by executing the following in a terminal:\n",
    "\n",
    "    `calcfpp TestCase1`\n",
    "\n",
    "If you want to do a quicker test run, you can run `calcfpp -n 1000` (for example), to make smaller populations (the default `n` is 20000, which takes about 10 minutes).\n",
    "\n",
    "If you follow along with the output of `calcfpp`, you will notice it first fits the trapezoid model to the observed transit signal.\n",
    "It then proceeds to generate populations for lots of different models, and subsequently to fit a trapezoidal model to each instance.\n",
    "By default, `calcfpp` will use the following models:\n",
    "\n",
    "  * BEB (background(/foreground) eclipsing binary---physically unassociated with target star)\n",
    "  * HEB (hierarchcial eclipsing binary)\n",
    "  * EB (eclipsing binary---the target star is an EB, no additional blending)\n",
    "  * Pl (planet: the true transiting planet model)\n",
    "\n",
    "There are also `_Px2` versions of the EB models, in which the false positive scenario has a period exactly twice the candidate's period, which could happen if the primary and secondary EB eclipse depths are very similar.\n",
    "\n",
    "After running `calcfpp`, you now have the following files in your directory:"
   ]
  },
  {
   "cell_type": "code",
   "execution_count": null,
   "metadata": {},
   "outputs": [],
   "source": [
    "%%bash\n",
    "ls TestCase1"
   ]
  },
  {
   "cell_type": "markdown",
   "metadata": {},
   "source": [
    "Again, we see `*.h5` and `*.png` files have been created.\n",
    "\n",
    "One interesting file is the `starfield.h5` file, which contains the TRILEGAL simulation of the background population of stars.\n",
    "The purpose of this file is to simulate the stellar photometry of the field.\n",
    "Let's take a look at its contents:"
   ]
  },
  {
   "cell_type": "code",
   "execution_count": 75,
   "metadata": {},
   "outputs": [
    {
     "data": {
      "text/plain": [
       "Index([u'Gc', u'logAge', u'[M/H]', u'm_ini', u'logL', u'logTe', u'logg',\n",
       "       u'm-M0', u'Av', u'm2/m1', u'mbol', u'Kepler_mag', u'g_mag', u'r_mag',\n",
       "       u'i_mag', u'z_mag', u'DDO51_finf_mag', u'J_mag', u'H_mag', u'Ks_mag',\n",
       "       u'Mact'],\n",
       "      dtype='object')"
      ]
     },
     "execution_count": 75,
     "metadata": {},
     "output_type": "execute_result"
    }
   ],
   "source": [
    "import pandas as pd\n",
    "starfield = pd.read_hdf(\"TestCase1/starfield.h5\",'df')\n",
    "# let's look at the columns in this posterior:\n",
    "\n",
    "starfield.columns  "
   ]
  },
  {
   "cell_type": "markdown",
   "metadata": {},
   "source": [
    "These are the quantities simulated in the field. We can also plot the HR diagram of all the objects in the field:"
   ]
  },
  {
   "cell_type": "code",
   "execution_count": 76,
   "metadata": {},
   "outputs": [
    {
     "data": {
      "text/plain": [
       "Text(0,0.5,u'Log(L / L$_{sun}$)')"
      ]
     },
     "execution_count": 76,
     "metadata": {},
     "output_type": "execute_result"
    },
    {
     "data": {
      "image/png": "[encoded data removed]",
      "text/plain": [
       "<matplotlib.figure.Figure at 0x1c31b3a150>"
      ]
     },
     "metadata": {},
     "output_type": "display_data"
    }
   ],
   "source": [
    "scatter(starfield['logTe'], starfield[u'logL'],marker='.',\n",
    "     c = starfield[u'Kepler_mag'],s=1)\n",
    "gca().invert_xaxis()\n",
    "colorbar(label=\"Kepler Magnitude\")\n",
    "xlabel(\"Log($T_{eff}$ / K)\", fontsize=20)\n",
    "ylabel(\"Log(L / L$_{sun}$)\", fontsize=20)\n",
    "\n",
    "# So, what we see here is the HR diagram for the simulated star field. \n",
    "\n",
    "# more details on how simulation is run:\n",
    "#  http://stev.oapd.inaf.it/~webmaster/trilegal_1.6/help.html"
   ]
  },
  {
   "cell_type": "markdown",
   "metadata": {},
   "source": [
    "[Tim - add info about how you get RA/DEC?]"
   ]
  },
  {
   "cell_type": "markdown",
   "metadata": {},
   "source": [
    "`popset.h5` contains the simulated populations, and can be loaded as follows:"
   ]
  },
  {
   "cell_type": "code",
   "execution_count": null,
   "metadata": {},
   "outputs": [],
   "source": [
    "from vespa import PopulationSet\n",
    "popset = PopulationSet.load_hdf('TestCase1/popset.h5')"
   ]
  },
  {
   "cell_type": "markdown",
   "metadata": {},
   "source": [
    "Individual populations can be accessed from this object as follows:"
   ]
  },
  {
   "cell_type": "code",
   "execution_count": null,
   "metadata": {},
   "outputs": [],
   "source": [
    "bebs = popset['beb']\n",
    "hebs = popset['heb']"
   ]
  },
  {
   "cell_type": "markdown",
   "metadata": {},
   "source": [
    "Each of these population objects has a `.stars` attribute that contains all of the data for all the simulated instances of that model.\n",
    "\n",
    "As before, `*.png` files are diagnostic figures.  `FPPsummary.png` displays the summary of the results, and the others are informative visualizations of the various models, showing the distribution of simulated trapezoidal model parameters compared to the trapezoidal fit to the true transit candidate signal.\n",
    "\n",
    "You can also directly load the `FPPCalculation` object from this directory:"
   ]
  },
  {
   "cell_type": "code",
   "execution_count": null,
   "metadata": {},
   "outputs": [],
   "source": [
    "from vespa import FPPCalculation\n",
    "fpp = FPPCalculation.load('TestCase1')"
   ]
  },
  {
   "cell_type": "markdown",
   "metadata": {},
   "source": [
    "At this point, you should be able to quickly get the false positive probability result:\n"
   ]
  },
  {
   "cell_type": "code",
   "execution_count": null,
   "metadata": {},
   "outputs": [],
   "source": [
    "fpp.FPP()"
   ]
  },
  {
   "cell_type": "markdown",
   "metadata": {},
   "source": [
    "The  is quick this time because the populations are already generated, and the likelihood computations have been cached."
   ]
  },
  {
   "cell_type": "markdown",
   "metadata": {},
   "source": [
    "## Appendix 1: Detrending a light curve \n",
    "As noted above, VESPA requires a detrended, flatened, phase-folded lightcurve to work. [As described here](https://github.com/barentsen/kepler-athenaeum-tutorial/blob/master/how-to-find-a-planet-tutorial.ipynb), the process of finding a planet requires several steps before you get to the point where you have a phase-folded, flattened light curve (like the kind you need for VESPA). Let's try the steps [from this tutorial](https://github.com/barentsen/kepler-athenaeum-tutorial/blob/master/how-to-find-a-planet-tutorial.ipynb) and flatten a light curve.\n",
    "\n",
    "First, let's take a sample light curve from the K2 mission. Let's try the one at [this URL](https://www.cfa.harvard.edu/~avanderb/k2c14/ep248463350.html), EPIC 248463350. \n",
    "\n",
    "The ExoFop page for this source is [at this link](https://exofop.ipac.caltech.edu/k2/edit_target.php?id=248463350). \n",
    "\n",
    "Save the files you will need on this target (or a different one, if you repeat the process) to your Data directory, and let's plot it and see what it looks like:\n"
   ]
  },
  {
   "cell_type": "code",
   "execution_count": 10,
   "metadata": {},
   "outputs": [
    {
     "name": "stdout",
     "output_type": "stream",
     "text": [
      "Populating the interactive namespace from numpy and matplotlib\n"
     ]
    },
    {
     "data": {
      "text/plain": [
       "Text(0.5,0,u'Time')"
      ]
     },
     "execution_count": 10,
     "metadata": {},
     "output_type": "execute_result"
    },
    {
     "data": {
      "image/png": "[encoded data removed]",
      "text/plain": [
       "<matplotlib.figure.Figure at 0x12a2d3050>"
      ]
     },
     "metadata": {},
     "output_type": "display_data"
    }
   ],
   "source": [
    "%pylab inline\n",
    "import pandas as pd\n",
    "epic_target = pd.read_csv(\"Data/raw248463350.txt\", skiprows=1,names=['time','flux', 'error'])\n",
    "errorbar(epic_target['time'], epic_target['flux'],epic_target['error'])\n",
    "ylabel(\"Flux\", fontsize=20)\n",
    "xlabel(\"Time\", fontsize=20)\n"
   ]
  },
  {
   "cell_type": "markdown",
   "metadata": {},
   "source": [
    "This light curve has long term trends (what could those be due to?). For finding planets, they are not very helpful. So, we will use a low pass filter to remove them:"
   ]
  },
  {
   "cell_type": "code",
   "execution_count": 60,
   "metadata": {},
   "outputs": [
    {
     "data": {
      "text/plain": [
       "Text(0.5,0,u'Time')"
      ]
     },
     "execution_count": 60,
     "metadata": {},
     "output_type": "execute_result"
    },
    {
     "data": {
      "image/png": "[encoded data removed]",
      "text/plain": [
       "<matplotlib.figure.Figure at 0x1c2fcbd110>"
      ]
     },
     "metadata": {},
     "output_type": "display_data"
    }
   ],
   "source": [
    "import scipy.signal\n",
    "trend = scipy.signal.savgol_filter(epic_target['flux'], 101, polyorder=3) \n",
    "epic_target['corr_flux'] = (epic_target['flux'] / trend)\n",
    "\n",
    "plot(epic_target['time'], epic_target['corr_flux'], '.')\n",
    "ylabel(\"Flux (flattened)\", fontsize=18)\n",
    "xlabel(\"Time\", fontsize=18)"
   ]
  },
  {
   "cell_type": "markdown",
   "metadata": {},
   "source": [
    "You will notice that this low pass filter is not perfect, but it has turned the messy light curve into a flattened curve with a few events that look like transits. At this point, we need to figure out the periods of the planets, so we know which periods to fold over to generate the `transit.ini` files for VESPA."
   ]
  },
  {
   "cell_type": "code",
   "execution_count": null,
   "metadata": {},
   "outputs": [],
   "source": [
    "## parameters from Andrew's fit:\n",
    "# P=18.788228,E=2457930.470510\n",
    "# P=6.393653,E=2457941.008880\n",
    "# and Rp/R*1 = 0.036485216\n",
    "# Rp/R*2 = 0.017301727"
   ]
  },
  {
   "cell_type": "code",
   "execution_count": 21,
   "metadata": {},
   "outputs": [],
   "source": [
    "periods = [6.393653, 18.788228]\n",
    "tcent = [2457941.008880,2457930.470510]\n",
    "rp_rs = [0.017301727,0.036485216]\n",
    "headings = ['Time', 'Relative Flux', 'Flattened Relative Flux', 'Flattened Relative Flux with planet 2 removed',\n",
    "           'Flattened Relative Flux with planet 1 removed']\n",
    "import pandas as pd\n",
    "epic_target_fitted = pd.read_csv(\"Data/processed248463350.csv\", delimiter=\",\", skiprows=1,names = headings,engine='python',index_col = None)\n"
   ]
  },
  {
   "cell_type": "markdown",
   "metadata": {},
   "source": [
    "Now, we can try plotting the modded curves for planet(s) in the system. We will "
   ]
  },
  {
   "cell_type": "code",
   "execution_count": 22,
   "metadata": {},
   "outputs": [
    {
     "data": {
      "text/plain": [
       "Text(0.5,0,u'Time')"
      ]
     },
     "execution_count": 22,
     "metadata": {},
     "output_type": "execute_result"
    },
    {
     "data": {
      "image/png": "[encoded data removed]",
      "text/plain": [
       "<matplotlib.figure.Figure at 0x11290b890>"
      ]
     },
     "metadata": {},
     "output_type": "display_data"
    }
   ],
   "source": [
    "plot(epic_target_fitted['Time'].values % periods[1], epic_target_fitted['Flattened Relative Flux with planet 2 removed'].values, '.')\n",
    "ylabel(\"Flux (flattened)\", fontsize=18)\n",
    "xlabel(\"Time\", fontsize=18)"
   ]
  },
  {
   "cell_type": "code",
   "execution_count": 10,
   "metadata": {},
   "outputs": [
    {
     "name": "stdout",
     "output_type": "stream",
     "text": [
      "Populating the interactive namespace from numpy and matplotlib\n"
     ]
    }
   ],
   "source": [
    "%pylab inline"
   ]
  },
  {
   "cell_type": "code",
   "execution_count": 18,
   "metadata": {},
   "outputs": [
    {
     "data": {
      "text/html": [
       "<div>\n",
       "<style scoped>\n",
       "    .dataframe tbody tr th:only-of-type {\n",
       "        vertical-align: middle;\n",
       "    }\n",
       "\n",
       "    .dataframe tbody tr th {\n",
       "        vertical-align: top;\n",
       "    }\n",
       "\n",
       "    .dataframe thead th {\n",
       "        text-align: right;\n",
       "    }\n",
       "</style>\n",
       "<table border=\"1\" class=\"dataframe\">\n",
       "  <thead>\n",
       "    <tr style=\"text-align: right;\">\n",
       "      <th></th>\n",
       "      <th>Time</th>\n",
       "      <th>Relative Flux</th>\n",
       "      <th>Flattened Relative Flux</th>\n",
       "      <th>Flattened Relative Flux with planet 2 removed</th>\n",
       "      <th>Flattened Relative Flux with planet 1 removed</th>\n",
       "    </tr>\n",
       "  </thead>\n",
       "  <tbody>\n",
       "    <tr>\n",
       "      <th>0</th>\n",
       "      <td>3074.4246</td>\n",
       "      <td>0.998227</td>\n",
       "      <td>0.999956</td>\n",
       "      <td>0.999956</td>\n",
       "      <td>0.999956</td>\n",
       "    </tr>\n",
       "    <tr>\n",
       "      <th>1</th>\n",
       "      <td>3074.4450</td>\n",
       "      <td>0.998237</td>\n",
       "      <td>1.000000</td>\n",
       "      <td>1.000000</td>\n",
       "      <td>1.000000</td>\n",
       "    </tr>\n",
       "    <tr>\n",
       "      <th>2</th>\n",
       "      <td>3074.4654</td>\n",
       "      <td>0.998129</td>\n",
       "      <td>0.999926</td>\n",
       "      <td>0.999926</td>\n",
       "      <td>0.999926</td>\n",
       "    </tr>\n",
       "    <tr>\n",
       "      <th>3</th>\n",
       "      <td>3074.4859</td>\n",
       "      <td>0.998416</td>\n",
       "      <td>1.000250</td>\n",
       "      <td>1.000250</td>\n",
       "      <td>1.000250</td>\n",
       "    </tr>\n",
       "    <tr>\n",
       "      <th>4</th>\n",
       "      <td>3074.5063</td>\n",
       "      <td>0.998158</td>\n",
       "      <td>1.000029</td>\n",
       "      <td>1.000029</td>\n",
       "      <td>1.000029</td>\n",
       "    </tr>\n",
       "    <tr>\n",
       "      <th>5</th>\n",
       "      <td>3074.5267</td>\n",
       "      <td>0.998278</td>\n",
       "      <td>1.000187</td>\n",
       "      <td>1.000187</td>\n",
       "      <td>1.000187</td>\n",
       "    </tr>\n",
       "    <tr>\n",
       "      <th>6</th>\n",
       "      <td>3074.5472</td>\n",
       "      <td>0.998085</td>\n",
       "      <td>1.000034</td>\n",
       "      <td>1.000034</td>\n",
       "      <td>1.000034</td>\n",
       "    </tr>\n",
       "    <tr>\n",
       "      <th>7</th>\n",
       "      <td>3074.5676</td>\n",
       "      <td>0.998021</td>\n",
       "      <td>1.000010</td>\n",
       "      <td>1.000010</td>\n",
       "      <td>1.000010</td>\n",
       "    </tr>\n",
       "    <tr>\n",
       "      <th>8</th>\n",
       "      <td>3074.5880</td>\n",
       "      <td>0.997864</td>\n",
       "      <td>0.999894</td>\n",
       "      <td>0.999894</td>\n",
       "      <td>0.999894</td>\n",
       "    </tr>\n",
       "    <tr>\n",
       "      <th>9</th>\n",
       "      <td>3074.6085</td>\n",
       "      <td>0.997912</td>\n",
       "      <td>0.999985</td>\n",
       "      <td>0.999985</td>\n",
       "      <td>0.999985</td>\n",
       "    </tr>\n",
       "    <tr>\n",
       "      <th>10</th>\n",
       "      <td>3074.6493</td>\n",
       "      <td>0.997556</td>\n",
       "      <td>0.999715</td>\n",
       "      <td>0.999715</td>\n",
       "      <td>0.999715</td>\n",
       "    </tr>\n",
       "    <tr>\n",
       "      <th>11</th>\n",
       "      <td>3074.6698</td>\n",
       "      <td>0.997591</td>\n",
       "      <td>0.999795</td>\n",
       "      <td>0.999795</td>\n",
       "      <td>0.999795</td>\n",
       "    </tr>\n",
       "    <tr>\n",
       "      <th>12</th>\n",
       "      <td>3074.6902</td>\n",
       "      <td>0.997631</td>\n",
       "      <td>0.999882</td>\n",
       "      <td>0.999882</td>\n",
       "      <td>0.999882</td>\n",
       "    </tr>\n",
       "    <tr>\n",
       "      <th>13</th>\n",
       "      <td>3074.7106</td>\n",
       "      <td>0.997347</td>\n",
       "      <td>0.999643</td>\n",
       "      <td>0.999643</td>\n",
       "      <td>0.999643</td>\n",
       "    </tr>\n",
       "    <tr>\n",
       "      <th>14</th>\n",
       "      <td>3074.7311</td>\n",
       "      <td>0.997573</td>\n",
       "      <td>0.999917</td>\n",
       "      <td>0.999917</td>\n",
       "      <td>0.999917</td>\n",
       "    </tr>\n",
       "    <tr>\n",
       "      <th>15</th>\n",
       "      <td>3074.7515</td>\n",
       "      <td>0.997555</td>\n",
       "      <td>0.999946</td>\n",
       "      <td>0.999946</td>\n",
       "      <td>0.999946</td>\n",
       "    </tr>\n",
       "    <tr>\n",
       "      <th>16</th>\n",
       "      <td>3074.7719</td>\n",
       "      <td>0.997507</td>\n",
       "      <td>0.999946</td>\n",
       "      <td>0.999946</td>\n",
       "      <td>0.999946</td>\n",
       "    </tr>\n",
       "    <tr>\n",
       "      <th>17</th>\n",
       "      <td>3074.7923</td>\n",
       "      <td>0.997859</td>\n",
       "      <td>1.000346</td>\n",
       "      <td>1.000346</td>\n",
       "      <td>1.000346</td>\n",
       "    </tr>\n",
       "    <tr>\n",
       "      <th>18</th>\n",
       "      <td>3074.8128</td>\n",
       "      <td>0.997240</td>\n",
       "      <td>0.999774</td>\n",
       "      <td>0.999774</td>\n",
       "      <td>0.999774</td>\n",
       "    </tr>\n",
       "    <tr>\n",
       "      <th>19</th>\n",
       "      <td>3074.8332</td>\n",
       "      <td>0.997523</td>\n",
       "      <td>1.000108</td>\n",
       "      <td>1.000108</td>\n",
       "      <td>1.000108</td>\n",
       "    </tr>\n",
       "    <tr>\n",
       "      <th>20</th>\n",
       "      <td>3074.8536</td>\n",
       "      <td>0.997347</td>\n",
       "      <td>0.999980</td>\n",
       "      <td>0.999980</td>\n",
       "      <td>0.999980</td>\n",
       "    </tr>\n",
       "    <tr>\n",
       "      <th>21</th>\n",
       "      <td>3074.8945</td>\n",
       "      <td>0.997423</td>\n",
       "      <td>1.000156</td>\n",
       "      <td>1.000156</td>\n",
       "      <td>1.000156</td>\n",
       "    </tr>\n",
       "    <tr>\n",
       "      <th>22</th>\n",
       "      <td>3074.9149</td>\n",
       "      <td>0.997241</td>\n",
       "      <td>1.000024</td>\n",
       "      <td>1.000024</td>\n",
       "      <td>1.000024</td>\n",
       "    </tr>\n",
       "    <tr>\n",
       "      <th>23</th>\n",
       "      <td>3074.9354</td>\n",
       "      <td>0.997066</td>\n",
       "      <td>0.999898</td>\n",
       "      <td>0.999898</td>\n",
       "      <td>0.999898</td>\n",
       "    </tr>\n",
       "    <tr>\n",
       "      <th>24</th>\n",
       "      <td>3074.9558</td>\n",
       "      <td>0.997563</td>\n",
       "      <td>1.000446</td>\n",
       "      <td>1.000446</td>\n",
       "      <td>1.000446</td>\n",
       "    </tr>\n",
       "    <tr>\n",
       "      <th>25</th>\n",
       "      <td>3074.9762</td>\n",
       "      <td>0.997028</td>\n",
       "      <td>0.999960</td>\n",
       "      <td>0.999960</td>\n",
       "      <td>0.999960</td>\n",
       "    </tr>\n",
       "    <tr>\n",
       "      <th>26</th>\n",
       "      <td>3074.9967</td>\n",
       "      <td>0.997043</td>\n",
       "      <td>1.000025</td>\n",
       "      <td>1.000025</td>\n",
       "      <td>1.000025</td>\n",
       "    </tr>\n",
       "    <tr>\n",
       "      <th>27</th>\n",
       "      <td>3075.0171</td>\n",
       "      <td>0.997089</td>\n",
       "      <td>1.000121</td>\n",
       "      <td>1.000121</td>\n",
       "      <td>1.000121</td>\n",
       "    </tr>\n",
       "    <tr>\n",
       "      <th>28</th>\n",
       "      <td>3075.0375</td>\n",
       "      <td>0.996683</td>\n",
       "      <td>0.999763</td>\n",
       "      <td>0.999763</td>\n",
       "      <td>0.999763</td>\n",
       "    </tr>\n",
       "    <tr>\n",
       "      <th>29</th>\n",
       "      <td>3075.0580</td>\n",
       "      <td>0.997224</td>\n",
       "      <td>1.000356</td>\n",
       "      <td>1.000356</td>\n",
       "      <td>1.000356</td>\n",
       "    </tr>\n",
       "    <tr>\n",
       "      <th>...</th>\n",
       "      <td>...</td>\n",
       "      <td>...</td>\n",
       "      <td>...</td>\n",
       "      <td>...</td>\n",
       "      <td>...</td>\n",
       "    </tr>\n",
       "    <tr>\n",
       "      <th>3469</th>\n",
       "      <td>3151.6979</td>\n",
       "      <td>1.022480</td>\n",
       "      <td>1.000206</td>\n",
       "      <td>1.000206</td>\n",
       "      <td>1.000206</td>\n",
       "    </tr>\n",
       "    <tr>\n",
       "      <th>3470</th>\n",
       "      <td>3151.7184</td>\n",
       "      <td>1.022311</td>\n",
       "      <td>1.000034</td>\n",
       "      <td>1.000034</td>\n",
       "      <td>1.000034</td>\n",
       "    </tr>\n",
       "    <tr>\n",
       "      <th>3471</th>\n",
       "      <td>3151.7388</td>\n",
       "      <td>1.022387</td>\n",
       "      <td>1.000102</td>\n",
       "      <td>1.000102</td>\n",
       "      <td>1.000102</td>\n",
       "    </tr>\n",
       "    <tr>\n",
       "      <th>3472</th>\n",
       "      <td>3151.7592</td>\n",
       "      <td>1.022214</td>\n",
       "      <td>0.999926</td>\n",
       "      <td>0.999926</td>\n",
       "      <td>0.999926</td>\n",
       "    </tr>\n",
       "    <tr>\n",
       "      <th>3473</th>\n",
       "      <td>3151.7797</td>\n",
       "      <td>1.022248</td>\n",
       "      <td>0.999954</td>\n",
       "      <td>0.999954</td>\n",
       "      <td>0.999954</td>\n",
       "    </tr>\n",
       "    <tr>\n",
       "      <th>3474</th>\n",
       "      <td>3151.8001</td>\n",
       "      <td>1.022187</td>\n",
       "      <td>0.999888</td>\n",
       "      <td>0.999888</td>\n",
       "      <td>0.999888</td>\n",
       "    </tr>\n",
       "    <tr>\n",
       "      <th>3475</th>\n",
       "      <td>3151.8205</td>\n",
       "      <td>1.022202</td>\n",
       "      <td>0.999897</td>\n",
       "      <td>0.999897</td>\n",
       "      <td>0.999897</td>\n",
       "    </tr>\n",
       "    <tr>\n",
       "      <th>3476</th>\n",
       "      <td>3151.8410</td>\n",
       "      <td>1.022539</td>\n",
       "      <td>1.000222</td>\n",
       "      <td>1.000222</td>\n",
       "      <td>1.000222</td>\n",
       "    </tr>\n",
       "    <tr>\n",
       "      <th>3477</th>\n",
       "      <td>3151.8818</td>\n",
       "      <td>1.022354</td>\n",
       "      <td>1.000032</td>\n",
       "      <td>1.000032</td>\n",
       "      <td>1.000032</td>\n",
       "    </tr>\n",
       "    <tr>\n",
       "      <th>3478</th>\n",
       "      <td>3151.9023</td>\n",
       "      <td>1.022460</td>\n",
       "      <td>1.000131</td>\n",
       "      <td>1.000131</td>\n",
       "      <td>1.000131</td>\n",
       "    </tr>\n",
       "    <tr>\n",
       "      <th>3479</th>\n",
       "      <td>3151.9227</td>\n",
       "      <td>1.022058</td>\n",
       "      <td>0.999734</td>\n",
       "      <td>0.999734</td>\n",
       "      <td>0.999734</td>\n",
       "    </tr>\n",
       "    <tr>\n",
       "      <th>3480</th>\n",
       "      <td>3151.9431</td>\n",
       "      <td>1.022394</td>\n",
       "      <td>1.000059</td>\n",
       "      <td>1.000059</td>\n",
       "      <td>1.000059</td>\n",
       "    </tr>\n",
       "    <tr>\n",
       "      <th>3481</th>\n",
       "      <td>3151.9636</td>\n",
       "      <td>1.022107</td>\n",
       "      <td>0.999776</td>\n",
       "      <td>0.999776</td>\n",
       "      <td>0.999776</td>\n",
       "    </tr>\n",
       "    <tr>\n",
       "      <th>3482</th>\n",
       "      <td>3151.9840</td>\n",
       "      <td>1.022500</td>\n",
       "      <td>1.000157</td>\n",
       "      <td>1.000157</td>\n",
       "      <td>1.000157</td>\n",
       "    </tr>\n",
       "    <tr>\n",
       "      <th>3483</th>\n",
       "      <td>3152.0044</td>\n",
       "      <td>1.022247</td>\n",
       "      <td>0.999908</td>\n",
       "      <td>0.999908</td>\n",
       "      <td>0.999908</td>\n",
       "    </tr>\n",
       "    <tr>\n",
       "      <th>3484</th>\n",
       "      <td>3152.0248</td>\n",
       "      <td>1.022099</td>\n",
       "      <td>0.999761</td>\n",
       "      <td>0.999761</td>\n",
       "      <td>0.999761</td>\n",
       "    </tr>\n",
       "    <tr>\n",
       "      <th>3485</th>\n",
       "      <td>3152.0453</td>\n",
       "      <td>1.022317</td>\n",
       "      <td>0.999975</td>\n",
       "      <td>0.999975</td>\n",
       "      <td>0.999975</td>\n",
       "    </tr>\n",
       "    <tr>\n",
       "      <th>3486</th>\n",
       "      <td>3152.0657</td>\n",
       "      <td>1.022725</td>\n",
       "      <td>1.000373</td>\n",
       "      <td>1.000373</td>\n",
       "      <td>1.000373</td>\n",
       "    </tr>\n",
       "    <tr>\n",
       "      <th>3487</th>\n",
       "      <td>3152.0861</td>\n",
       "      <td>1.022343</td>\n",
       "      <td>0.999999</td>\n",
       "      <td>0.999999</td>\n",
       "      <td>0.999999</td>\n",
       "    </tr>\n",
       "    <tr>\n",
       "      <th>3488</th>\n",
       "      <td>3152.1270</td>\n",
       "      <td>1.022387</td>\n",
       "      <td>1.000045</td>\n",
       "      <td>1.000045</td>\n",
       "      <td>1.000045</td>\n",
       "    </tr>\n",
       "    <tr>\n",
       "      <th>3489</th>\n",
       "      <td>3152.1474</td>\n",
       "      <td>1.022442</td>\n",
       "      <td>1.000100</td>\n",
       "      <td>1.000100</td>\n",
       "      <td>1.000100</td>\n",
       "    </tr>\n",
       "    <tr>\n",
       "      <th>3490</th>\n",
       "      <td>3152.1883</td>\n",
       "      <td>1.021982</td>\n",
       "      <td>0.999657</td>\n",
       "      <td>0.999657</td>\n",
       "      <td>0.999657</td>\n",
       "    </tr>\n",
       "    <tr>\n",
       "      <th>3491</th>\n",
       "      <td>3152.2087</td>\n",
       "      <td>1.022390</td>\n",
       "      <td>1.000059</td>\n",
       "      <td>1.000059</td>\n",
       "      <td>1.000059</td>\n",
       "    </tr>\n",
       "    <tr>\n",
       "      <th>3492</th>\n",
       "      <td>3152.2292</td>\n",
       "      <td>1.022330</td>\n",
       "      <td>1.000006</td>\n",
       "      <td>1.000006</td>\n",
       "      <td>1.000006</td>\n",
       "    </tr>\n",
       "    <tr>\n",
       "      <th>3493</th>\n",
       "      <td>3152.2496</td>\n",
       "      <td>1.022520</td>\n",
       "      <td>1.000197</td>\n",
       "      <td>1.000197</td>\n",
       "      <td>1.000197</td>\n",
       "    </tr>\n",
       "    <tr>\n",
       "      <th>3494</th>\n",
       "      <td>3152.2700</td>\n",
       "      <td>1.022454</td>\n",
       "      <td>1.000139</td>\n",
       "      <td>1.000139</td>\n",
       "      <td>1.000139</td>\n",
       "    </tr>\n",
       "    <tr>\n",
       "      <th>3495</th>\n",
       "      <td>3152.2905</td>\n",
       "      <td>1.022274</td>\n",
       "      <td>0.999970</td>\n",
       "      <td>0.999970</td>\n",
       "      <td>0.999970</td>\n",
       "    </tr>\n",
       "    <tr>\n",
       "      <th>3496</th>\n",
       "      <td>3152.3313</td>\n",
       "      <td>1.022168</td>\n",
       "      <td>0.999884</td>\n",
       "      <td>0.999884</td>\n",
       "      <td>0.999884</td>\n",
       "    </tr>\n",
       "    <tr>\n",
       "      <th>3497</th>\n",
       "      <td>3152.3722</td>\n",
       "      <td>1.022125</td>\n",
       "      <td>0.999862</td>\n",
       "      <td>0.999862</td>\n",
       "      <td>0.999862</td>\n",
       "    </tr>\n",
       "    <tr>\n",
       "      <th>3498</th>\n",
       "      <td>3152.3926</td>\n",
       "      <td>1.022351</td>\n",
       "      <td>1.000095</td>\n",
       "      <td>1.000095</td>\n",
       "      <td>1.000095</td>\n",
       "    </tr>\n",
       "  </tbody>\n",
       "</table>\n",
       "<p>3499 rows × 5 columns</p>\n",
       "</div>"
      ],
      "text/plain": [
       "           Time  Relative Flux  Flattened Relative Flux  \\\n",
       "0     3074.4246       0.998227                 0.999956   \n",
       "1     3074.4450       0.998237                 1.000000   \n",
       "2     3074.4654       0.998129                 0.999926   \n",
       "3     3074.4859       0.998416                 1.000250   \n",
       "4     3074.5063       0.998158                 1.000029   \n",
       "5     3074.5267       0.998278                 1.000187   \n",
       "6     3074.5472       0.998085                 1.000034   \n",
       "7     3074.5676       0.998021                 1.000010   \n",
       "8     3074.5880       0.997864                 0.999894   \n",
       "9     3074.6085       0.997912                 0.999985   \n",
       "10    3074.6493       0.997556                 0.999715   \n",
       "11    3074.6698       0.997591                 0.999795   \n",
       "12    3074.6902       0.997631                 0.999882   \n",
       "13    3074.7106       0.997347                 0.999643   \n",
       "14    3074.7311       0.997573                 0.999917   \n",
       "15    3074.7515       0.997555                 0.999946   \n",
       "16    3074.7719       0.997507                 0.999946   \n",
       "17    3074.7923       0.997859                 1.000346   \n",
       "18    3074.8128       0.997240                 0.999774   \n",
       "19    3074.8332       0.997523                 1.000108   \n",
       "20    3074.8536       0.997347                 0.999980   \n",
       "21    3074.8945       0.997423                 1.000156   \n",
       "22    3074.9149       0.997241                 1.000024   \n",
       "23    3074.9354       0.997066                 0.999898   \n",
       "24    3074.9558       0.997563                 1.000446   \n",
       "25    3074.9762       0.997028                 0.999960   \n",
       "26    3074.9967       0.997043                 1.000025   \n",
       "27    3075.0171       0.997089                 1.000121   \n",
       "28    3075.0375       0.996683                 0.999763   \n",
       "29    3075.0580       0.997224                 1.000356   \n",
       "...         ...            ...                      ...   \n",
       "3469  3151.6979       1.022480                 1.000206   \n",
       "3470  3151.7184       1.022311                 1.000034   \n",
       "3471  3151.7388       1.022387                 1.000102   \n",
       "3472  3151.7592       1.022214                 0.999926   \n",
       "3473  3151.7797       1.022248                 0.999954   \n",
       "3474  3151.8001       1.022187                 0.999888   \n",
       "3475  3151.8205       1.022202                 0.999897   \n",
       "3476  3151.8410       1.022539                 1.000222   \n",
       "3477  3151.8818       1.022354                 1.000032   \n",
       "3478  3151.9023       1.022460                 1.000131   \n",
       "3479  3151.9227       1.022058                 0.999734   \n",
       "3480  3151.9431       1.022394                 1.000059   \n",
       "3481  3151.9636       1.022107                 0.999776   \n",
       "3482  3151.9840       1.022500                 1.000157   \n",
       "3483  3152.0044       1.022247                 0.999908   \n",
       "3484  3152.0248       1.022099                 0.999761   \n",
       "3485  3152.0453       1.022317                 0.999975   \n",
       "3486  3152.0657       1.022725                 1.000373   \n",
       "3487  3152.0861       1.022343                 0.999999   \n",
       "3488  3152.1270       1.022387                 1.000045   \n",
       "3489  3152.1474       1.022442                 1.000100   \n",
       "3490  3152.1883       1.021982                 0.999657   \n",
       "3491  3152.2087       1.022390                 1.000059   \n",
       "3492  3152.2292       1.022330                 1.000006   \n",
       "3493  3152.2496       1.022520                 1.000197   \n",
       "3494  3152.2700       1.022454                 1.000139   \n",
       "3495  3152.2905       1.022274                 0.999970   \n",
       "3496  3152.3313       1.022168                 0.999884   \n",
       "3497  3152.3722       1.022125                 0.999862   \n",
       "3498  3152.3926       1.022351                 1.000095   \n",
       "\n",
       "      Flattened Relative Flux with planet 2 removed  \\\n",
       "0                                          0.999956   \n",
       "1                                          1.000000   \n",
       "2                                          0.999926   \n",
       "3                                          1.000250   \n",
       "4                                          1.000029   \n",
       "5                                          1.000187   \n",
       "6                                          1.000034   \n",
       "7                                          1.000010   \n",
       "8                                          0.999894   \n",
       "9                                          0.999985   \n",
       "10                                         0.999715   \n",
       "11                                         0.999795   \n",
       "12                                         0.999882   \n",
       "13                                         0.999643   \n",
       "14                                         0.999917   \n",
       "15                                         0.999946   \n",
       "16                                         0.999946   \n",
       "17                                         1.000346   \n",
       "18                                         0.999774   \n",
       "19                                         1.000108   \n",
       "20                                         0.999980   \n",
       "21                                         1.000156   \n",
       "22                                         1.000024   \n",
       "23                                         0.999898   \n",
       "24                                         1.000446   \n",
       "25                                         0.999960   \n",
       "26                                         1.000025   \n",
       "27                                         1.000121   \n",
       "28                                         0.999763   \n",
       "29                                         1.000356   \n",
       "...                                             ...   \n",
       "3469                                       1.000206   \n",
       "3470                                       1.000034   \n",
       "3471                                       1.000102   \n",
       "3472                                       0.999926   \n",
       "3473                                       0.999954   \n",
       "3474                                       0.999888   \n",
       "3475                                       0.999897   \n",
       "3476                                       1.000222   \n",
       "3477                                       1.000032   \n",
       "3478                                       1.000131   \n",
       "3479                                       0.999734   \n",
       "3480                                       1.000059   \n",
       "3481                                       0.999776   \n",
       "3482                                       1.000157   \n",
       "3483                                       0.999908   \n",
       "3484                                       0.999761   \n",
       "3485                                       0.999975   \n",
       "3486                                       1.000373   \n",
       "3487                                       0.999999   \n",
       "3488                                       1.000045   \n",
       "3489                                       1.000100   \n",
       "3490                                       0.999657   \n",
       "3491                                       1.000059   \n",
       "3492                                       1.000006   \n",
       "3493                                       1.000197   \n",
       "3494                                       1.000139   \n",
       "3495                                       0.999970   \n",
       "3496                                       0.999884   \n",
       "3497                                       0.999862   \n",
       "3498                                       1.000095   \n",
       "\n",
       "      Flattened Relative Flux with planet 1 removed  \n",
       "0                                          0.999956  \n",
       "1                                          1.000000  \n",
       "2                                          0.999926  \n",
       "3                                          1.000250  \n",
       "4                                          1.000029  \n",
       "5                                          1.000187  \n",
       "6                                          1.000034  \n",
       "7                                          1.000010  \n",
       "8                                          0.999894  \n",
       "9                                          0.999985  \n",
       "10                                         0.999715  \n",
       "11                                         0.999795  \n",
       "12                                         0.999882  \n",
       "13                                         0.999643  \n",
       "14                                         0.999917  \n",
       "15                                         0.999946  \n",
       "16                                         0.999946  \n",
       "17                                         1.000346  \n",
       "18                                         0.999774  \n",
       "19                                         1.000108  \n",
       "20                                         0.999980  \n",
       "21                                         1.000156  \n",
       "22                                         1.000024  \n",
       "23                                         0.999898  \n",
       "24                                         1.000446  \n",
       "25                                         0.999960  \n",
       "26                                         1.000025  \n",
       "27                                         1.000121  \n",
       "28                                         0.999763  \n",
       "29                                         1.000356  \n",
       "...                                             ...  \n",
       "3469                                       1.000206  \n",
       "3470                                       1.000034  \n",
       "3471                                       1.000102  \n",
       "3472                                       0.999926  \n",
       "3473                                       0.999954  \n",
       "3474                                       0.999888  \n",
       "3475                                       0.999897  \n",
       "3476                                       1.000222  \n",
       "3477                                       1.000032  \n",
       "3478                                       1.000131  \n",
       "3479                                       0.999734  \n",
       "3480                                       1.000059  \n",
       "3481                                       0.999776  \n",
       "3482                                       1.000157  \n",
       "3483                                       0.999908  \n",
       "3484                                       0.999761  \n",
       "3485                                       0.999975  \n",
       "3486                                       1.000373  \n",
       "3487                                       0.999999  \n",
       "3488                                       1.000045  \n",
       "3489                                       1.000100  \n",
       "3490                                       0.999657  \n",
       "3491                                       1.000059  \n",
       "3492                                       1.000006  \n",
       "3493                                       1.000197  \n",
       "3494                                       1.000139  \n",
       "3495                                       0.999970  \n",
       "3496                                       0.999884  \n",
       "3497                                       0.999862  \n",
       "3498                                       1.000095  \n",
       "\n",
       "[3499 rows x 5 columns]"
      ]
     },
     "execution_count": 18,
     "metadata": {},
     "output_type": "execute_result"
    }
   ],
   "source": [
    "epic_target_fitted"
   ]
  },
  {
   "cell_type": "code",
   "execution_count": null,
   "metadata": {},
   "outputs": [],
   "source": []
  }
 ],
 "metadata": {
  "kernelspec": {
   "display_name": "Python 2",
   "language": "python",
   "name": "python2"
  },
  "language_info": {
   "codemirror_mode": {
    "name": "ipython",
    "version": 2
   },
   "file_extension": ".py",
   "mimetype": "text/x-python",
   "name": "python",
   "nbconvert_exporter": "python",
   "pygments_lexer": "ipython2",
   "version": "2.7.14"
  }
 },
 "nbformat": 4,
 "nbformat_minor": 2
}
